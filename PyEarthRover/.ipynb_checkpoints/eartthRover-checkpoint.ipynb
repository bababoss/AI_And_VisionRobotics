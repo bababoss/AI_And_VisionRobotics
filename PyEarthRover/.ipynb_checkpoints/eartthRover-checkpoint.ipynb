{
 "cells": [
  {
   "cell_type": "code",
   "execution_count": 2,
   "metadata": {
    "collapsed": false
   },
   "outputs": [],
   "source": [
    "import numpy as np\n",
    "import cv2\n",
    "\n",
    "cap = cv2.VideoCapture(0)\n",
    "\n",
    "while(True):\n",
    "    # Capture frame-by-frame\n",
    "    e1 = cv2.getTickCount()\n",
    "    ret, frame = cap.read()\n",
    "\n",
    "    # Our operations on the frame come here\n",
    "    gray = cv2.cvtColor(frame, cv2.COLOR_BGR2GRAY)\n",
    "\n",
    "    # Display the resulting frame\n",
    "    cv2.imshow('frame',gray)\n",
    "    if cv2.waitKey(30) & 0xFF == ord('q'):\n",
    "        break\n",
    "    e2 = cv2.getTickCount()\n",
    "    t=(e2-e1)/cv2.getTickFrequency()\n",
    "    if t>=1:\n",
    "        print(t)\n",
    "        cap.release()\n",
    "        cv2.destroyAllWindows()\n",
    "        break\n",
    "\n",
    "\n",
    "# When everything done, release the capture\n",
    "#cap.release()\n",
    "# When everything done, release the capture\n",
    "\n",
    "#cv2.destroyAllWindows()\n",
    "\n"
   ]
  },
  {
   "cell_type": "code",
   "execution_count": null,
   "metadata": {
    "collapsed": false
   },
   "outputs": [],
   "source": [
    "import cv2\n",
    "import numpy as np\n",
    "cap = cv2.VideoCapture(0)\n",
    "#open image window\n",
    "cv2.namedWindow('MouseEvent')\n",
    "\n",
    "#function for ferform task on mouse event\n",
    "def mouse_event_task(event,x,y,flags,param):\n",
    "    if event == cv2.EVENT_LBUTTONDBLCLK:\n",
    "        print(\"LBUTTONDBLCLK\")\n",
    "    if event == cv2.EVENT_LBUTTONDOWN:\n",
    "        print(\"LEVENT_LBUTTONDOWN\")\n",
    "    if event == cv2.EVENT_LBUTTONUP:\n",
    "        print(\"EVENT_LBUTTONUP\")\n",
    "    if event == cv2.EVENT_RBUTTONDOWN:\n",
    "        print(\"EVENT_RBUTTONDOWN\")\n",
    "        print x,y\n",
    "\n",
    "#Mouse callback method calling\n",
    "cv2.setMouseCallback('MouseEvent', mouse_event_task)\n",
    "\n",
    "while(True):\n",
    "    #Capture fraame by frame\n",
    "    e1=cv2.getTickCount()\n",
    "    ret, frame = cap.read()\n",
    "    gray = cv2.cvtColor(frame, cv2.COLOR_BGR2GRAY)\n",
    "    cv2.imshow('MouseEvent',gray)\n",
    "    if cv2.waitKey(30) & 0xFF == ord('q'):\n",
    "        cap.release()\n",
    "        cv2.destroyAllWindows()\n",
    "        break\n",
    "    \n",
    "    e2=cv2.getTickCount()\n",
    "    t=(e2-e1)/cv2.getTickFrequency()\n",
    "    if t>=5:\n",
    "        print(t)\n",
    "        cap.release()\n",
    "        cv2.destroyAllWindows()\n",
    "        break\n",
    "    "
   ]
  },
  {
   "cell_type": "code",
   "execution_count": 3,
   "metadata": {
    "collapsed": false
   },
   "outputs": [
    {
     "name": "stdout",
     "output_type": "stream",
     "text": [
      "['EVENT_FLAG_ALTKEY', 'EVENT_FLAG_CTRLKEY', 'EVENT_FLAG_LBUTTON', 'EVENT_FLAG_MBUTTON', 'EVENT_FLAG_RBUTTON', 'EVENT_FLAG_SHIFTKEY', 'EVENT_LBUTTONDBLCLK', 'EVENT_LBUTTONDOWN', 'EVENT_LBUTTONUP', 'EVENT_MBUTTONDBLCLK', 'EVENT_MBUTTONDOWN', 'EVENT_MBUTTONUP', 'EVENT_MOUSEHWHEEL', 'EVENT_MOUSEMOVE', 'EVENT_MOUSEWHEEL', 'EVENT_RBUTTONDBLCLK', 'EVENT_RBUTTONDOWN', 'EVENT_RBUTTONUP']\n"
     ]
    }
   ],
   "source": [
    "import cv2\n",
    "events = [i for i in dir(cv2) if 'EVENT' in i]\n",
    "print events\n"
   ]
  },
  {
   "cell_type": "code",
   "execution_count": 1,
   "metadata": {
    "collapsed": false
   },
   "outputs": [],
   "source": [
    "import cv2\n",
    "\n",
    "class ERoverCallback:\n",
    "\n",
    "    def __init__(self):\n",
    "        #open image window\n",
    "        cv2.namedWindow('MouseEvent')        \n",
    "        self.cap = cv2.VideoCapture(0)\n",
    "        #open image window\n",
    "\n",
    "\n",
    "    def mouse_event_task(self,event, x, y, flag, param):\n",
    "        if event == cv2.EVENT_LBUTTONDBLCLK:\n",
    "            print(\"LBUTTONDBLCLK\")\n",
    "        if event == cv2.EVENT_LBUTTONDOWN:\n",
    "            print(\"LEVENT_LBUTTONDOWN\")\n",
    "        if event == cv2.EVENT_LBUTTONUP:\n",
    "            print(\"EVENT_LBUTTONUP\")\n",
    "        if event == cv2.EVENT_RBUTTONDOWN:\n",
    "            print(\"EVENT_RBUTTONDOWN\")\n",
    "            print x,y\n",
    "\n",
    "    def callback(self):\n",
    "        while(True):\n",
    "            #Capture fraame by frame\n",
    "            e1=cv2.getTickCount()\n",
    "            ret, frame = self.cap.read()\n",
    "            gray = cv2.cvtColor(frame, cv2.COLOR_BGR2GRAY)\n",
    "            cv2.imshow('MouseEvent',gray)\n",
    "            if cv2.waitKey(30) & 0xFF == ord('q'):\n",
    "                self.cap.release()\n",
    "                cv2.destroyAllWindows()\n",
    "                break\n",
    "\n",
    "            e2=cv2.getTickCount()\n",
    "            t=(e2-e1)/cv2.getTickFrequency()\n",
    "            if t>=5:\n",
    "                print(t)\n",
    "                self.cap.release()\n",
    "                cv2.destroyAllWindows()\n",
    "                break\n",
    "\n",
    "if __name__ == '__main__':\n",
    "    ER = ERoverCallback()\n",
    "    cv2.setMouseCallback('MouseEvent', ER.mouse_event_task)\n",
    "    ER.callback()"
   ]
  },
  {
   "cell_type": "markdown",
   "metadata": {},
   "source": [
    "## Raspberry Pi Stepper motor\n",
    "\n",
    "    5V (P1-02)\n",
    "    GND (P1-06)\n",
    "\n",
    "    Inp1 (P1-11)\n",
    "    Inp2 (P1-15)\n",
    "    Inp3 (P1-16)\n",
    "    Inp4 (P1-18)\n"
   ]
  },
  {
   "cell_type": "code",
   "execution_count": null,
   "metadata": {
    "collapsed": false
   },
   "outputs": [
    {
     "name": "stdout",
     "output_type": "stream",
     "text": [
      "Setup pins\n",
      "Setup pins\n",
      "Setup pins\n",
      "Setup pins\n",
      "0 [1, 0, 0, 1]\n",
      " Enable GPIO 17\n",
      " Enable GPIO 24\n"
     ]
    },
    {
     "name": "stderr",
     "output_type": "stream",
     "text": [
      "/usr/local/lib/python2.7/dist-packages/ipykernel/__main__.py:17: RuntimeWarning: This channel is already in use, continuing anyway.  Use GPIO.setwarnings(False) to disable warnings.\n"
     ]
    },
    {
     "name": "stdout",
     "output_type": "stream",
     "text": [
      "1 [1, 0, 0, 0]\n",
      " Enable GPIO 17\n",
      "2 [1, 1, 0, 0]\n",
      " Enable GPIO 17\n",
      " Enable GPIO 22\n",
      "3 [0, 1, 0, 0]\n",
      " Enable GPIO 22\n",
      "4 [0, 1, 1, 0]\n",
      " Enable GPIO 22\n",
      " Enable GPIO 23\n",
      "5 [0, 0, 1, 0]\n",
      " Enable GPIO 23\n",
      "6 [0, 0, 1, 1]\n",
      " Enable GPIO 23\n",
      " Enable GPIO 24\n",
      "7 [0, 0, 0, 1]\n",
      " Enable GPIO 24\n",
      "0 [1, 0, 0, 1]\n",
      " Enable GPIO 17\n",
      " Enable GPIO 24\n",
      "1 [1, 0, 0, 0]\n",
      " Enable GPIO 17\n"
     ]
    }
   ],
   "source": [
    "# Import required libraries\n",
    "import time\n",
    "import RPi.GPIO as GPIO\n",
    " \n",
    "# Use BCM GPIO references\n",
    "# instead of physical pin numbers\n",
    "GPIO.setmode(GPIO.BCM)\n",
    " \n",
    "# Define GPIO signals to use\n",
    "# Physical pins 11,15,16,18\n",
    "# GPIO17,GPIO22,GPIO23,GPIO24\n",
    "StepPins = [17,22,23,24]\n",
    " \n",
    "# Set all pins as output\n",
    "for pin in StepPins:\n",
    "    print(\"Setup pins\")\n",
    "    GPIO.setup(pin,GPIO.OUT)\n",
    "    GPIO.output(pin, False)\n",
    " \n",
    "\n",
    "#  shown in manufacturers datasheet\n",
    "Seq = [[1,0,0,1],\n",
    "       [1,0,0,0],\n",
    "       [1,1,0,0],\n",
    "       [0,1,0,0],\n",
    "       [0,1,1,0],\n",
    "       [0,0,1,0],\n",
    "       [0,0,1,1],\n",
    "       [0,0,0,1]]\n",
    "        \n",
    "StepCount = len(Seq)\n",
    "StepDir = 1 # Set to 1 or 2 for clockwise\n",
    "            # Set to -1 or -2 for anti-clockwise\n",
    " \n",
    "# Read wait time from command line\n",
    "#if len(sys.argv)>1:\n",
    "#  WaitTime = int(sys.argv[1])/float(1000)\n",
    "#else:\n",
    "WaitTime = 1/float(1000)\n",
    " \n",
    "# Initialise variables\n",
    "StepCounter = 0\n",
    " \n",
    "# Start main loop\n",
    "while True:\n",
    "    start = time.time()\n",
    "    print StepCounter,\n",
    "    print Seq[StepCounter]\n",
    " \n",
    "    for pin in range(0,4):\n",
    "        xpin=StepPins[pin]# Get GPIO\n",
    "        if Seq[StepCounter][pin]!=0:\n",
    "            print \" Enable GPIO %i\" %(xpin)\n",
    "            GPIO.output(xpin, True)\n",
    "        else:\n",
    "            GPIO.output(xpin, False)\n",
    " \n",
    "    StepCounter += StepDir\n",
    " \n",
    "  # If we reach the end of the sequence\n",
    "    # start again\n",
    "    if (StepCounter>=StepCount):\n",
    "        StepCounter = 0\n",
    "    if (StepCounter<0):\n",
    "        StepCounter = StepCount+StepDir\n",
    " \n",
    "  # Wait before moving on\n",
    "    ends_time= time.time()\n",
    "    time_diff=ends_time-start\n",
    "    time.sleep(10)\n",
    "    if (time_diff>=30):\n",
    "        break"
   ]
  },
  {
   "cell_type": "code",
   "execution_count": null,
   "metadata": {
    "collapsed": true
   },
   "outputs": [],
   "source": [
    "%%bash\n",
    "ps"
   ]
  }
 ],
 "metadata": {
  "kernelspec": {
   "display_name": "Python 2",
   "language": "python",
   "name": "python2"
  },
  "language_info": {
   "codemirror_mode": {
    "name": "ipython",
    "version": 2
   },
   "file_extension": ".py",
   "mimetype": "text/x-python",
   "name": "python",
   "nbconvert_exporter": "python",
   "pygments_lexer": "ipython2",
   "version": "2.7.9"
  }
 },
 "nbformat": 4,
 "nbformat_minor": 0
}
