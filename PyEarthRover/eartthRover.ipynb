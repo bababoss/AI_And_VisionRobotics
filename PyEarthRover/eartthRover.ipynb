{
 "cells": [
  {
   "cell_type": "code",
   "execution_count": 2,
   "metadata": {
    "collapsed": false
   },
   "outputs": [],
   "source": [
    "import numpy as np\n",
    "import cv2\n",
    "\n",
    "cap = cv2.VideoCapture(0)\n",
    "\n",
    "while(True):\n",
    "    # Capture frame-by-frame\n",
    "    e1 = cv2.getTickCount()\n",
    "    ret, frame = cap.read()\n",
    "\n",
    "    # Our operations on the frame come here\n",
    "    gray = cv2.cvtColor(frame, cv2.COLOR_BGR2GRAY)\n",
    "\n",
    "    # Display the resulting frame\n",
    "    cv2.imshow('frame',gray)\n",
    "    if cv2.waitKey(30) & 0xFF == ord('q'):\n",
    "        break\n",
    "    e2 = cv2.getTickCount()\n",
    "    t=(e2-e1)/cv2.getTickFrequency()\n",
    "    if t>=1:\n",
    "        print(t)\n",
    "        cap.release()\n",
    "        cv2.destroyAllWindows()\n",
    "        break\n",
    "\n",
    "\n",
    "# When everything done, release the capture\n",
    "#cap.release()\n",
    "# When everything done, release the capture\n",
    "\n",
    "#cv2.destroyAllWindows()\n",
    "\n"
   ]
  },
  {
   "cell_type": "code",
   "execution_count": null,
   "metadata": {
    "collapsed": false
   },
   "outputs": [],
   "source": [
    "import cv2\n",
    "import numpy as np\n",
    "cap = cv2.VideoCapture(0)\n",
    "#open image window\n",
    "cv2.namedWindow('MouseEvent')\n",
    "\n",
    "#function for ferform task on mouse event\n",
    "def mouse_event_task(event,x,y,flags,param):\n",
    "    if event == cv2.EVENT_LBUTTONDBLCLK:\n",
    "        print(\"LBUTTONDBLCLK\")\n",
    "    if event == cv2.EVENT_LBUTTONDOWN:\n",
    "        print(\"LEVENT_LBUTTONDOWN\")\n",
    "    if event == cv2.EVENT_LBUTTONUP:\n",
    "        print(\"EVENT_LBUTTONUP\")\n",
    "    if event == cv2.EVENT_RBUTTONDOWN:\n",
    "        print(\"EVENT_RBUTTONDOWN\")\n",
    "        print x,y\n",
    "\n",
    "#Mouse callback method calling\n",
    "cv2.setMouseCallback('MouseEvent', mouse_event_task)\n",
    "\n",
    "while(True):\n",
    "    #Capture fraame by frame\n",
    "    e1=cv2.getTickCount()\n",
    "    ret, frame = cap.read()\n",
    "    gray = cv2.cvtColor(frame, cv2.COLOR_BGR2GRAY)\n",
    "    cv2.imshow('MouseEvent',gray)\n",
    "    if cv2.waitKey(30) & 0xFF == ord('q'):\n",
    "        cap.release()\n",
    "        cv2.destroyAllWindows()\n",
    "        break\n",
    "    \n",
    "    e2=cv2.getTickCount()\n",
    "    t=(e2-e1)/cv2.getTickFrequency()\n",
    "    if t>=5:\n",
    "        print(t)\n",
    "        cap.release()\n",
    "        cv2.destroyAllWindows()\n",
    "        break\n",
    "    "
   ]
  },
  {
   "cell_type": "code",
   "execution_count": 3,
   "metadata": {
    "collapsed": false
   },
   "outputs": [
    {
     "name": "stdout",
     "output_type": "stream",
     "text": [
      "['EVENT_FLAG_ALTKEY', 'EVENT_FLAG_CTRLKEY', 'EVENT_FLAG_LBUTTON', 'EVENT_FLAG_MBUTTON', 'EVENT_FLAG_RBUTTON', 'EVENT_FLAG_SHIFTKEY', 'EVENT_LBUTTONDBLCLK', 'EVENT_LBUTTONDOWN', 'EVENT_LBUTTONUP', 'EVENT_MBUTTONDBLCLK', 'EVENT_MBUTTONDOWN', 'EVENT_MBUTTONUP', 'EVENT_MOUSEHWHEEL', 'EVENT_MOUSEMOVE', 'EVENT_MOUSEWHEEL', 'EVENT_RBUTTONDBLCLK', 'EVENT_RBUTTONDOWN', 'EVENT_RBUTTONUP']\n"
     ]
    }
   ],
   "source": [
    "import cv2\n",
    "events = [i for i in dir(cv2) if 'EVENT' in i]\n",
    "print events\n"
   ]
  },
  {
   "cell_type": "code",
   "execution_count": 3,
   "metadata": {
    "collapsed": false
   },
   "outputs": [
    {
     "name": "stdout",
     "output_type": "stream",
     "text": [
      "LEVENT_LBUTTONDOWN\n",
      "EVENT_LBUTTONUP\n",
      "EVENT_RBUTTONDOWN\n",
      "303 177\n",
      "EVENT_RBUTTONDOWN\n",
      "325 342\n",
      "EVENT_RBUTTONDOWN\n",
      "122 163\n",
      "EVENT_RBUTTONDOWN\n",
      "287 188\n",
      "EVENT_RBUTTONDOWN\n",
      "503 236\n",
      "EVENT_RBUTTONDOWN\n",
      "477 67\n",
      "EVENT_RBUTTONDOWN\n",
      "238 23\n"
     ]
    }
   ],
   "source": [
    "import cv2\n",
    "\n",
    "class ERoverCallback:\n",
    "\n",
    "    def __init__(self):\n",
    "        #open image window\n",
    "        cv2.namedWindow('MouseEvent')        \n",
    "        self.cap = cv2.VideoCapture(0)\n",
    "        #open image window\n",
    "\n",
    "\n",
    "    def mouse_event_task(self,event, x, y, flag, param):\n",
    "        if event == cv2.EVENT_LBUTTONDBLCLK:\n",
    "            print(\"LBUTTONDBLCLK\")\n",
    "        if event == cv2.EVENT_LBUTTONDOWN:\n",
    "            print(\"LEVENT_LBUTTONDOWN\")\n",
    "        if event == cv2.EVENT_LBUTTONUP:\n",
    "            print(\"EVENT_LBUTTONUP\")\n",
    "        if event == cv2.EVENT_RBUTTONDOWN:\n",
    "            print(\"EVENT_RBUTTONDOWN\")\n",
    "            print x,y\n",
    "\n",
    "    def callback(self):\n",
    "        while(True):\n",
    "            #Capture fraame by frame\n",
    "            e1=cv2.getTickCount()\n",
    "            ret, frame = self.cap.read()\n",
    "            gray = cv2.cvtColor(frame, cv2.COLOR_BGR2GRAY)\n",
    "            cv2.imshow('MouseEvent',gray)\n",
    "            if cv2.waitKey(30) & 0xFF == ord('q'):\n",
    "                self.cap.release()\n",
    "                cv2.destroyAllWindows()\n",
    "                break\n",
    "\n",
    "            e2=cv2.getTickCount()\n",
    "            t=(e2-e1)/cv2.getTickFrequency()\n",
    "            if t>=5:\n",
    "                print(t)\n",
    "                self.cap.release()\n",
    "                cv2.destroyAllWindows()\n",
    "                break\n",
    "\n",
    "if __name__ == '__main__':\n",
    "    ER = ERoverCallback()\n",
    "    cv2.setMouseCallback('MouseEvent', ER.mouse_event_task)\n",
    "    ER.callback()"
   ]
  }
 ],
 "metadata": {
  "kernelspec": {
   "display_name": "Python 2",
   "language": "python",
   "name": "python2"
  },
  "language_info": {
   "codemirror_mode": {
    "name": "ipython",
    "version": 2
   },
   "file_extension": ".py",
   "mimetype": "text/x-python",
   "name": "python",
   "nbconvert_exporter": "python",
   "pygments_lexer": "ipython2",
   "version": "2.7.9"
  }
 },
 "nbformat": 4,
 "nbformat_minor": 0
}
